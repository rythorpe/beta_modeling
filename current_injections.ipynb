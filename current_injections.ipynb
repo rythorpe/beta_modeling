{
 "cells": [
  {
   "cell_type": "code",
   "execution_count": 2,
   "source": [
    "from hnn_core import law_2021_model, calcium_model\n",
    "import numpy as np\n",
    "import matplotlib.pyplot as plt\n",
    "import seaborn as sns\n",
    "sns.set()"
   ],
   "outputs": [],
   "metadata": {}
  },
  {
   "cell_type": "code",
   "execution_count": null,
   "source": [
    "law_human = law_2021_model()\n",
    "law_monkey = law_human.copy()\n",
    "law_mouse = law_human.copy()\n",
    "\n",
    "calcium_human = calcium_model()\n",
    "calcium_monkey = calcium_human.copy()\n",
    "calcium_mouse = calcium_human.copy()\n",
    "\n",
    "def scale_apical(net, scaling_factor):\n",
    "    props = ['L']\n",
    "    mech_edits = [('hh2', 'gkbar_hh2'), ('hh2', 'gnabar_hh2'), ('ca', 'gbar_ca'), ('cad', 'taur_cad'), ('kca', 'gbar_kca'), ('km', 'gbar_km'), ('cat', 'gbar_cat')]\n",
    "    pyr_cells = ['L2_pyramidal', 'L5_pyramidal']\n",
    "    omit_compartments = ['basal_1',  'basal_2',  'basal_3',  'soma']\n",
    "    for prop in props:        \n",
    "        if prop == 'cm':\n",
    "            new_fctr = 1/scaling_factor\n",
    "        else:\n",
    "            new_fctr = scaling_factor\n",
    "        rescale_pyr_morph(net=net, cell_types=pyr_cells, compartment_prop=prop, scaling_factor=new_fctr,\n",
    "                          omit_compartment=omit_compartments)\n",
    "\n",
    "    rescale_pyr_mech(net=net, cell_types=pyr_cells, compartment_mech=mech_edits, scaling_factor=new_fctr,\n",
    "                        omit_compartment=omit_compartments)\n",
    "\n",
    "scale_apical(law_monkey, scaling_factor=0.8)\n",
    "scale_apical(calcium_monkey, scaling_factor=0.8)\n",
    "scale_apical(law_mouse, scaling_factor=0.28)\n",
    "scale_apical(calcium_monkey, scaling_factor=0.28)\n"
   ],
   "outputs": [],
   "metadata": {}
  },
  {
   "cell_type": "code",
   "execution_count": null,
   "source": [],
   "outputs": [],
   "metadata": {}
  },
  {
   "cell_type": "code",
   "execution_count": null,
   "source": [
    "models = {'law_human': law_human, 'law_monkey': law_monkey, 'law_mouse': law_mouse,\n",
    "          'calcium_human': calcium_human, 'calcium_monkey': calcium_monkey, 'calcium_mouse': calcium_mouse}"
   ],
   "outputs": [],
   "metadata": {}
  },
  {
   "cell_type": "code",
   "execution_count": null,
   "source": [
    "for net_name, net in models.items():\n",
    "    net.remove_connections()"
   ],
   "outputs": [],
   "metadata": {}
  }
 ],
 "metadata": {
  "orig_nbformat": 4,
  "language_info": {
   "name": "python",
   "version": "3.8.3",
   "mimetype": "text/x-python",
   "codemirror_mode": {
    "name": "ipython",
    "version": 3
   },
   "pygments_lexer": "ipython3",
   "nbconvert_exporter": "python",
   "file_extension": ".py"
  },
  "kernelspec": {
   "name": "python3",
   "display_name": "Python 3.8.3 64-bit ('base': conda)"
  },
  "interpreter": {
   "hash": "eac34295e966cc6ea53792e444894ceb6939639b752ce6f9c76f56849b50f481"
  }
 },
 "nbformat": 4,
 "nbformat_minor": 2
}