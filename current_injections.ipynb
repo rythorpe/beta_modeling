{
 "cells": [
  {
   "cell_type": "code",
   "execution_count": 1,
   "source": [
    "from hnn_core import law_2021_model, calcium_model, MPIBackend, simulate_dipole\n",
    "import numpy as np\n",
    "import matplotlib.pyplot as plt\n",
    "import seaborn as sns\n",
    "from utils import rescale_pyr_morph, rescale_pyr_mech\n",
    "sns.set()"
   ],
   "outputs": [],
   "metadata": {}
  },
  {
   "cell_type": "code",
   "execution_count": 2,
   "source": [
    "law_human = law_2021_model()\n",
    "law_monkey = law_human.copy()\n",
    "law_mouse = law_human.copy()\n",
    "\n",
    "calcium_human = calcium_model()\n",
    "calcium_monkey = calcium_human.copy()\n",
    "calcium_mouse = calcium_human.copy()\n",
    "\n",
    "def scale_apical(net, scaling_factor):\n",
    "    props = ['L', 'cm']\n",
    "    mech_edits = [('hh2', 'gkbar_hh2'), ('hh2', 'gnabar_hh2'), ('ca', 'gbar_ca'), ('cad', 'taur_cad'),\n",
    "                   ('kca', 'gbar_kca'), ('km', 'gbar_km'), ('cat', 'gbar_cat'), ('ar', 'gbar_ar')]\n",
    "    pyr_cells = ['L2_pyramidal', 'L5_pyramidal']\n",
    "    #omit_compartments = ['basal_1',  'basal_2',  'basal_3',  'soma']\n",
    "    omit_compartments = ['basal_1',  'basal_2',  'basal_3']\n",
    "    for prop in props:        \n",
    "        if prop == 'cm':\n",
    "            new_fctr = 1/scaling_factor\n",
    "        else:\n",
    "            new_fctr = scaling_factor\n",
    "        rescale_pyr_morph(net=net, cell_types=pyr_cells, compartment_prop=prop, scaling_factor=new_fctr,\n",
    "                          omit_compartment=omit_compartments)\n",
    "\n",
    "    rescale_pyr_mech(net=net, cell_types=pyr_cells, compartment_mech=mech_edits, scaling_factor=scaling_factor,\n",
    "                        omit_compartment=omit_compartments)\n",
    "\n",
    "scale_apical(law_monkey, scaling_factor=0.8)\n",
    "scale_apical(calcium_monkey, scaling_factor=0.8)\n",
    "scale_apical(law_mouse, scaling_factor=0.28)\n",
    "scale_apical(calcium_mouse, scaling_factor=0.28)\n"
   ],
   "outputs": [],
   "metadata": {}
  },
  {
   "cell_type": "code",
   "execution_count": null,
   "source": [],
   "outputs": [],
   "metadata": {}
  },
  {
   "cell_type": "code",
   "execution_count": 3,
   "source": [
    "models = {'law_human': law_human, 'law_monkey': law_monkey, 'law_mouse': law_mouse,\n",
    "          'calcium_human': calcium_human, 'calcium_monkey': calcium_monkey, 'calcium_mouse': calcium_mouse}"
   ],
   "outputs": [],
   "metadata": {}
  },
  {
   "cell_type": "code",
   "execution_count": 4,
   "source": [
    "for net_name, net in models.items():\n",
    "    net.clear_connectivity()\n",
    "    net.add_tonic_bias(cell_type='L5_pyramidal', amplitude=0.5, t0=50.0, tstop=200.0)\n",
    "    with MPIBackend(n_procs=8):\n",
    "        _ = simulate_dipole(net, tstop = 300, record_vsoma=True)\n",
    "\n"
   ],
   "outputs": [
    {
     "output_type": "stream",
     "name": "stdout",
     "text": [
      "MPI will run over 8 processes\n",
      "Running 1 trials...\n"
     ]
    },
    {
     "output_type": "stream",
     "name": "stderr",
     "text": [
      "/home/ntolley/Jones_Lab/hnn-core/hnn_core/dipole.py:59: UserWarning: No connections instantiated in network. Consider using net = jones_2009_model() or net = law_2021_model() to create a predefined network from published models.\n",
      "  warnings.warn('No connections instantiated in network. Consider using '\n"
     ]
    },
    {
     "output_type": "stream",
     "name": "stdout",
     "text": [
      "numprocs=8\n",
      "Loading custom mechanism files from /home/ntolley/Jones_Lab/hnn-core/hnn_core/mod/x86_64/.libs/libnrnmech.so\n",
      "Building the NEURON model\n",
      "Loading custom mechanism files from /home/ntolley/Jones_Lab/hnn-core/hnn_core/mod/x86_64/.libs/libnrnmech.so\n",
      "Loading custom mechanism files from /home/ntolley/Jones_Lab/hnn-core/hnn_core/mod/x86_64/.libs/libnrnmech.so\n",
      "Loading custom mechanism files from /home/ntolley/Jones_Lab/hnn-core/hnn_core/mod/x86_64/.libs/libnrnmech.so\n",
      "Loading custom mechanism files from /home/ntolley/Jones_Lab/hnn-core/hnn_core/mod/x86_64/.libs/libnrnmech.so\n",
      "Loading custom mechanism files from /home/ntolley/Jones_Lab/hnn-core/hnn_core/mod/x86_64/.libs/libnrnmech.so\n",
      "Loading custom mechanism files from /home/ntolley/Jones_Lab/hnn-core/hnn_core/mod/x86_64/.libs/libnrnmech.so\n",
      "Loading custom mechanism files from /home/ntolley/Jones_Lab/hnn-core/hnn_core/mod/x86_64/.libs/libnrnmech.so\n",
      "[Done]\n",
      "running trial 1 on 8 cores\n",
      "Simulation time: 0.03 ms...\n",
      "Simulation time: 10.0 ms...\n",
      "Simulation time: 20.0 ms...\n",
      "Simulation time: 30.0 ms...\n",
      "Simulation time: 40.0 ms...\n",
      "Simulation time: 50.0 ms...\n",
      "Simulation time: 60.0 ms...\n",
      "Simulation time: 70.0 ms...\n",
      "Simulation time: 80.0 ms...\n",
      "Simulation time: 90.0 ms...\n",
      "Simulation time: 100.0 ms...\n",
      "Simulation time: 110.0 ms...\n",
      "Simulation time: 120.0 ms...\n",
      "Simulation time: 130.0 ms...\n",
      "Simulation time: 140.0 ms...\n",
      "Simulation time: 150.0 ms...\n",
      "Simulation time: 160.0 ms...\n",
      "Simulation time: 170.0 ms...\n",
      "Simulation time: 180.0 ms...\n",
      "Simulation time: 190.0 ms...\n",
      "Simulation time: 200.0 ms...\n",
      "Simulation time: 210.0 ms...\n",
      "Simulation time: 220.0 ms...\n",
      "Simulation time: 230.0 ms...\n",
      "Simulation time: 240.0 ms...\n",
      "Simulation time: 250.0 ms...\n",
      "Simulation time: 260.0 ms...\n",
      "Simulation time: 270.0 ms...\n",
      "Simulation time: 280.0 ms...\n",
      "Simulation time: 290.0 ms...\n",
      "MPI will run over 8 processes\n",
      "Running 1 trials...\n"
     ]
    },
    {
     "output_type": "stream",
     "name": "stderr",
     "text": [
      "/home/ntolley/Jones_Lab/hnn-core/hnn_core/dipole.py:59: UserWarning: No connections instantiated in network. Consider using net = jones_2009_model() or net = law_2021_model() to create a predefined network from published models.\n",
      "  warnings.warn('No connections instantiated in network. Consider using '\n"
     ]
    },
    {
     "output_type": "stream",
     "name": "stdout",
     "text": [
      "numprocs=8\n",
      "Loading custom mechanism files from /home/ntolley/Jones_Lab/hnn-core/hnn_core/mod/x86_64/.libs/libnrnmech.so\n",
      "Building the NEURON model\n",
      "[Done]\n",
      "Loading custom mechanism files from /home/ntolley/Jones_Lab/hnn-core/hnn_core/mod/x86_64/.libs/libnrnmech.so\n",
      "Loading custom mechanism files from /home/ntolley/Jones_Lab/hnn-core/hnn_core/mod/x86_64/.libs/libnrnmech.so\n",
      "Loading custom mechanism files from /home/ntolley/Jones_Lab/hnn-core/hnn_core/mod/x86_64/.libs/libnrnmech.so\n",
      "Loading custom mechanism files from /home/ntolley/Jones_Lab/hnn-core/hnn_core/mod/x86_64/.libs/libnrnmech.so\n",
      "Loading custom mechanism files from /home/ntolley/Jones_Lab/hnn-core/hnn_core/mod/x86_64/.libs/libnrnmech.so\n",
      "Loading custom mechanism files from /home/ntolley/Jones_Lab/hnn-core/hnn_core/mod/x86_64/.libs/libnrnmech.so\n",
      "Loading custom mechanism files from /home/ntolley/Jones_Lab/hnn-core/hnn_core/mod/x86_64/.libs/libnrnmech.so\n",
      "running trial 1 on 8 cores\n",
      "Simulation time: 0.03 ms...\n",
      "Simulation time: 10.0 ms...\n",
      "Simulation time: 20.0 ms...\n",
      "Simulation time: 30.0 ms...\n",
      "Simulation time: 40.0 ms...\n",
      "Simulation time: 50.0 ms...\n",
      "Simulation time: 60.0 ms...\n",
      "Simulation time: 70.0 ms...\n",
      "Simulation time: 80.0 ms...\n",
      "Simulation time: 90.0 ms...\n",
      "Simulation time: 100.0 ms...\n",
      "Simulation time: 110.0 ms...\n",
      "Simulation time: 120.0 ms...\n",
      "Simulation time: 130.0 ms...\n",
      "Simulation time: 140.0 ms...\n",
      "Simulation time: 150.0 ms...\n",
      "Simulation time: 160.0 ms...\n",
      "Simulation time: 170.0 ms...\n",
      "Simulation time: 180.0 ms...\n",
      "Simulation time: 190.0 ms...\n",
      "Simulation time: 200.0 ms...\n",
      "Simulation time: 210.0 ms...\n",
      "Simulation time: 220.0 ms...\n",
      "Simulation time: 230.0 ms...\n",
      "Simulation time: 240.0 ms...\n",
      "Simulation time: 250.0 ms...\n",
      "Simulation time: 260.0 ms...\n",
      "Simulation time: 270.0 ms...\n",
      "Simulation time: 280.0 ms...\n",
      "Simulation time: 290.0 ms...\n",
      "MPI will run over 8 processes\n",
      "Running 1 trials...\n"
     ]
    },
    {
     "output_type": "stream",
     "name": "stderr",
     "text": [
      "/home/ntolley/Jones_Lab/hnn-core/hnn_core/dipole.py:59: UserWarning: No connections instantiated in network. Consider using net = jones_2009_model() or net = law_2021_model() to create a predefined network from published models.\n",
      "  warnings.warn('No connections instantiated in network. Consider using '\n"
     ]
    },
    {
     "output_type": "stream",
     "name": "stdout",
     "text": [
      "numprocs=8\n",
      "Loading custom mechanism files from /home/ntolley/Jones_Lab/hnn-core/hnn_core/mod/x86_64/.libs/libnrnmech.so\n",
      "Building the NEURON model\n",
      "[Done]\n",
      "Loading custom mechanism files from /home/ntolley/Jones_Lab/hnn-core/hnn_core/mod/x86_64/.libs/libnrnmech.so\n",
      "Loading custom mechanism files from /home/ntolley/Jones_Lab/hnn-core/hnn_core/mod/x86_64/.libs/libnrnmech.so\n",
      "Loading custom mechanism files from /home/ntolley/Jones_Lab/hnn-core/hnn_core/mod/x86_64/.libs/libnrnmech.so\n",
      "Loading custom mechanism files from /home/ntolley/Jones_Lab/hnn-core/hnn_core/mod/x86_64/.libs/libnrnmech.so\n",
      "Loading custom mechanism files from /home/ntolley/Jones_Lab/hnn-core/hnn_core/mod/x86_64/.libs/libnrnmech.so\n",
      "Loading custom mechanism files from /home/ntolley/Jones_Lab/hnn-core/hnn_core/mod/x86_64/.libs/libnrnmech.so\n",
      "Loading custom mechanism files from /home/ntolley/Jones_Lab/hnn-core/hnn_core/mod/x86_64/.libs/libnrnmech.so\n",
      "running trial 1 on 8 cores\n",
      "Simulation time: 0.03 ms...\n",
      "Simulation time: 10.0 ms...\n",
      "Simulation time: 20.0 ms...\n",
      "Simulation time: 30.0 ms...\n",
      "Simulation time: 40.0 ms...\n",
      "Simulation time: 50.0 ms...\n",
      "Simulation time: 60.0 ms...\n",
      "Simulation time: 70.0 ms...\n",
      "Simulation time: 80.0 ms...\n",
      "Simulation time: 90.0 ms...\n",
      "Simulation time: 100.0 ms...\n",
      "Simulation time: 110.0 ms...\n",
      "Simulation time: 120.0 ms...\n",
      "Simulation time: 130.0 ms...\n",
      "Simulation time: 140.0 ms...\n",
      "Simulation time: 150.0 ms...\n",
      "Simulation time: 160.0 ms...\n",
      "Simulation time: 170.0 ms...\n",
      "Simulation time: 180.0 ms...\n",
      "Simulation time: 190.0 ms...\n",
      "Simulation time: 200.0 ms...\n",
      "Simulation time: 210.0 ms...\n",
      "Simulation time: 220.0 ms...\n",
      "Simulation time: 230.0 ms...\n",
      "Simulation time: 240.0 ms...\n",
      "Simulation time: 250.0 ms...\n",
      "Simulation time: 260.0 ms...\n",
      "Simulation time: 270.0 ms...\n",
      "Simulation time: 280.0 ms...\n",
      "Simulation time: 290.0 ms...\n",
      "MPI will run over 8 processes\n",
      "Running 1 trials...\n"
     ]
    },
    {
     "output_type": "stream",
     "name": "stderr",
     "text": [
      "/home/ntolley/Jones_Lab/hnn-core/hnn_core/dipole.py:59: UserWarning: No connections instantiated in network. Consider using net = jones_2009_model() or net = law_2021_model() to create a predefined network from published models.\n",
      "  warnings.warn('No connections instantiated in network. Consider using '\n"
     ]
    },
    {
     "output_type": "stream",
     "name": "stdout",
     "text": [
      "numprocs=8\n",
      "Loading custom mechanism files from /home/ntolley/Jones_Lab/hnn-core/hnn_core/mod/x86_64/.libs/libnrnmech.so\n",
      "Building the NEURON model\n",
      "Loading custom mechanism files from /home/ntolley/Jones_Lab/hnn-core/hnn_core/mod/x86_64/.libs/libnrnmech.so\n",
      "Loading custom mechanism files from /home/ntolley/Jones_Lab/hnn-core/hnn_core/mod/x86_64/.libs/libnrnmech.so\n",
      "Loading custom mechanism files from /home/ntolley/Jones_Lab/hnn-core/hnn_core/mod/x86_64/.libs/libnrnmech.so\n",
      "Loading custom mechanism files from /home/ntolley/Jones_Lab/hnn-core/hnn_core/mod/x86_64/.libs/libnrnmech.so\n",
      "Loading custom mechanism files from /home/ntolley/Jones_Lab/hnn-core/hnn_core/mod/x86_64/.libs/libnrnmech.so\n",
      "Loading custom mechanism files from /home/ntolley/Jones_Lab/hnn-core/hnn_core/mod/x86_64/.libs/libnrnmech.so\n",
      "Loading custom mechanism files from /home/ntolley/Jones_Lab/hnn-core/hnn_core/mod/x86_64/.libs/libnrnmech.so\n",
      "[Done]\n",
      "running trial 1 on 8 cores\n",
      "Simulation time: 0.03 ms...\n",
      "Simulation time: 10.0 ms...\n",
      "Simulation time: 20.0 ms...\n",
      "Simulation time: 30.0 ms...\n",
      "Simulation time: 40.0 ms...\n",
      "Simulation time: 50.0 ms...\n",
      "Simulation time: 60.0 ms...\n",
      "Simulation time: 70.0 ms...\n",
      "Simulation time: 80.0 ms...\n",
      "Simulation time: 90.0 ms...\n",
      "Simulation time: 100.0 ms...\n",
      "Simulation time: 110.0 ms...\n",
      "Simulation time: 120.0 ms...\n",
      "Simulation time: 130.0 ms...\n",
      "Simulation time: 140.0 ms...\n",
      "Simulation time: 150.0 ms...\n",
      "Simulation time: 160.0 ms...\n",
      "Simulation time: 170.0 ms...\n",
      "Simulation time: 180.0 ms...\n",
      "Simulation time: 190.0 ms...\n",
      "Simulation time: 200.0 ms...\n",
      "Simulation time: 210.0 ms...\n",
      "Simulation time: 220.0 ms...\n",
      "Simulation time: 230.0 ms...\n",
      "Simulation time: 240.0 ms...\n",
      "Simulation time: 250.0 ms...\n",
      "Simulation time: 260.0 ms...\n",
      "Simulation time: 270.0 ms...\n",
      "Simulation time: 280.0 ms...\n",
      "Simulation time: 290.0 ms...\n",
      "MPI will run over 8 processes\n",
      "Running 1 trials...\n"
     ]
    },
    {
     "output_type": "stream",
     "name": "stderr",
     "text": [
      "/home/ntolley/Jones_Lab/hnn-core/hnn_core/dipole.py:59: UserWarning: No connections instantiated in network. Consider using net = jones_2009_model() or net = law_2021_model() to create a predefined network from published models.\n",
      "  warnings.warn('No connections instantiated in network. Consider using '\n"
     ]
    },
    {
     "output_type": "stream",
     "name": "stdout",
     "text": [
      "numprocs=8\n",
      "Loading custom mechanism files from /home/ntolley/Jones_Lab/hnn-core/hnn_core/mod/x86_64/.libs/libnrnmech.so\n",
      "Building the NEURON model\n",
      "[Done]\n",
      "Loading custom mechanism files from /home/ntolley/Jones_Lab/hnn-core/hnn_core/mod/x86_64/.libs/libnrnmech.so\n",
      "Loading custom mechanism files from /home/ntolley/Jones_Lab/hnn-core/hnn_core/mod/x86_64/.libs/libnrnmech.so\n",
      "Loading custom mechanism files from /home/ntolley/Jones_Lab/hnn-core/hnn_core/mod/x86_64/.libs/libnrnmech.so\n",
      "Loading custom mechanism files from /home/ntolley/Jones_Lab/hnn-core/hnn_core/mod/x86_64/.libs/libnrnmech.so\n",
      "Loading custom mechanism files from /home/ntolley/Jones_Lab/hnn-core/hnn_core/mod/x86_64/.libs/libnrnmech.so\n",
      "Loading custom mechanism files from /home/ntolley/Jones_Lab/hnn-core/hnn_core/mod/x86_64/.libs/libnrnmech.so\n",
      "Loading custom mechanism files from /home/ntolley/Jones_Lab/hnn-core/hnn_core/mod/x86_64/.libs/libnrnmech.so\n",
      "running trial 1 on 8 cores\n",
      "Simulation time: 0.03 ms...\n",
      "Simulation time: 10.0 ms...\n",
      "Simulation time: 20.0 ms...\n",
      "Simulation time: 30.0 ms...\n",
      "Simulation time: 40.0 ms...\n",
      "Simulation time: 50.0 ms...\n",
      "Simulation time: 60.0 ms...\n",
      "Simulation time: 70.0 ms...\n",
      "Simulation time: 80.0 ms...\n",
      "Simulation time: 90.0 ms...\n",
      "Simulation time: 100.0 ms...\n",
      "Simulation time: 110.0 ms...\n",
      "Simulation time: 120.0 ms...\n",
      "Simulation time: 130.0 ms...\n",
      "Simulation time: 140.0 ms...\n",
      "Simulation time: 150.0 ms...\n",
      "Simulation time: 160.0 ms...\n",
      "Simulation time: 170.0 ms...\n",
      "Simulation time: 180.0 ms...\n",
      "Simulation time: 190.0 ms...\n",
      "Simulation time: 200.0 ms...\n",
      "Simulation time: 210.0 ms...\n",
      "Simulation time: 220.0 ms...\n",
      "Simulation time: 230.0 ms...\n",
      "Simulation time: 240.0 ms...\n",
      "Simulation time: 250.0 ms...\n",
      "Simulation time: 260.0 ms...\n",
      "Simulation time: 270.0 ms...\n",
      "Simulation time: 280.0 ms...\n",
      "Simulation time: 290.0 ms...\n",
      "MPI will run over 8 processes\n",
      "Running 1 trials...\n"
     ]
    },
    {
     "output_type": "stream",
     "name": "stderr",
     "text": [
      "/home/ntolley/Jones_Lab/hnn-core/hnn_core/dipole.py:59: UserWarning: No connections instantiated in network. Consider using net = jones_2009_model() or net = law_2021_model() to create a predefined network from published models.\n",
      "  warnings.warn('No connections instantiated in network. Consider using '\n"
     ]
    },
    {
     "output_type": "stream",
     "name": "stdout",
     "text": [
      "numprocs=8\n",
      "Loading custom mechanism files from /home/ntolley/Jones_Lab/hnn-core/hnn_core/mod/x86_64/.libs/libnrnmech.so\n",
      "Building the NEURON model\n",
      "[Done]\n",
      "Loading custom mechanism files from /home/ntolley/Jones_Lab/hnn-core/hnn_core/mod/x86_64/.libs/libnrnmech.so\n",
      "Loading custom mechanism files from /home/ntolley/Jones_Lab/hnn-core/hnn_core/mod/x86_64/.libs/libnrnmech.so\n",
      "Loading custom mechanism files from /home/ntolley/Jones_Lab/hnn-core/hnn_core/mod/x86_64/.libs/libnrnmech.so\n",
      "Loading custom mechanism files from /home/ntolley/Jones_Lab/hnn-core/hnn_core/mod/x86_64/.libs/libnrnmech.so\n",
      "Loading custom mechanism files from /home/ntolley/Jones_Lab/hnn-core/hnn_core/mod/x86_64/.libs/libnrnmech.so\n",
      "Loading custom mechanism files from /home/ntolley/Jones_Lab/hnn-core/hnn_core/mod/x86_64/.libs/libnrnmech.so\n",
      "Loading custom mechanism files from /home/ntolley/Jones_Lab/hnn-core/hnn_core/mod/x86_64/.libs/libnrnmech.so\n",
      "running trial 1 on 8 cores\n",
      "Simulation time: 0.03 ms...\n",
      "Simulation time: 10.0 ms...\n",
      "Simulation time: 20.0 ms...\n",
      "Simulation time: 30.0 ms...\n",
      "Simulation time: 40.0 ms...\n",
      "Simulation time: 50.0 ms...\n",
      "Simulation time: 60.0 ms...\n",
      "Simulation time: 70.0 ms...\n",
      "Simulation time: 80.0 ms...\n",
      "Simulation time: 90.0 ms...\n",
      "Simulation time: 100.0 ms...\n",
      "Simulation time: 110.0 ms...\n",
      "Simulation time: 120.0 ms...\n",
      "Simulation time: 130.0 ms...\n",
      "Simulation time: 140.0 ms...\n",
      "Simulation time: 150.0 ms...\n",
      "Simulation time: 160.0 ms...\n",
      "Simulation time: 170.0 ms...\n",
      "Simulation time: 180.0 ms...\n",
      "Simulation time: 190.0 ms...\n",
      "Simulation time: 200.0 ms...\n",
      "Simulation time: 210.0 ms...\n",
      "Simulation time: 220.0 ms...\n",
      "Simulation time: 230.0 ms...\n",
      "Simulation time: 240.0 ms...\n",
      "Simulation time: 250.0 ms...\n",
      "Simulation time: 260.0 ms...\n",
      "Simulation time: 270.0 ms...\n",
      "Simulation time: 280.0 ms...\n",
      "Simulation time: 290.0 ms...\n"
     ]
    }
   ],
   "metadata": {}
  },
  {
   "cell_type": "code",
   "execution_count": 5,
   "source": [
    "gid = net.gid_ranges['L5_pyramidal'][18]\n",
    "colors = ['C0', 'C1', 'C2', 'C0', 'C1', 'C2']\n",
    "\n",
    "plt.figure(figsize=(15, 7))\n",
    "for idx, (net_name, net) in enumerate(models.items()):\n",
    "    voltage = net.cell_response.vsoma[0][gid]\n",
    "\n",
    "    plt.subplot(2, 3, idx+1)\n",
    "    plt.plot(net.cell_response.times, voltage, color=colors[idx])\n",
    "    plt.ylabel('Somatic Voltage (uV)')\n",
    "    plt.xlabel('Time (ms)')\n",
    "    plt.title(net_name)\n",
    "plt.tight_layout()\n"
   ],
   "outputs": [
    {
     "output_type": "display_data",
     "data": {
      "text/plain": [
       "<Figure size 1080x504 with 6 Axes>"
      ],
      "image/png": "[encoded data removed]"
     },
     "metadata": {}
    }
   ],
   "metadata": {}
  },
  {
   "cell_type": "code",
   "execution_count": null,
   "source": [],
   "outputs": [],
   "metadata": {}
  }
 ],
 "metadata": {
  "orig_nbformat": 4,
  "language_info": {
   "name": "python",
   "version": "3.8.3",
   "mimetype": "text/x-python",
   "codemirror_mode": {
    "name": "ipython",
    "version": 3
   },
   "pygments_lexer": "ipython3",
   "nbconvert_exporter": "python",
   "file_extension": ".py"
  },
  "kernelspec": {
   "name": "python3",
   "display_name": "Python 3.8.3 64-bit ('base': conda)"
  },
  "interpreter": {
   "hash": "eac34295e966cc6ea53792e444894ceb6939639b752ce6f9c76f56849b50f481"
  }
 },
 "nbformat": 4,
 "nbformat_minor": 2
}